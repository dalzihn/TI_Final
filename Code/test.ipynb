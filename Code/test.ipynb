{
 "cells": [
  {
   "cell_type": "markdown",
   "metadata": {},
   "source": [
    "# Done \n"
   ]
  },
  {
   "cell_type": "code",
   "execution_count": 1,
   "metadata": {},
   "outputs": [],
   "source": [
    "import data_setup\n",
    "import pandas as pd\n",
    "import os \n",
    "import numpy as np"
   ]
  },
  {
   "cell_type": "code",
   "execution_count": 2,
   "metadata": {},
   "outputs": [],
   "source": [
    "# def preprocess(data: pd.DataFrame) -> pd.DataFrame:\n",
    "#     preprocessed_data = data\n",
    "#     # Drop the first two rows\n",
    "#     preprocessed_data = preprocessed_data.iloc[2:].reset_index(drop=True)\n",
    "\n",
    "#     # Change \"Attributes\" to \"Data\"\n",
    "#     preprocessed_data = preprocessed_data.rename({\"Attributes\" : \"Date\"}, \n",
    "#                                              axis=1)\n",
    "    \n",
    "#     # Chaneg data type\n",
    "#     convert_dict = {\"high\": float, \"low\": float, \"open\" : float, \"close\": float, \n",
    "#                     \"adjust\": float, \"volume_match\": float, \"value_match\": float}\n",
    "#     preprocessed_data = preprocessed_data.astype(convert_dict)\n",
    "\n",
    "#     # TODO: Encode datetime\n",
    "#     preprocessed_data[\"Date\"] = pd.to_datetime(preprocessed_data[\"Date\"])\n",
    "#     # sine and cosine transformation of year\n",
    "#     preprocessed_data[\"year_sin\"] = np.sin((2 * np.pi * preprocessed_data[\"Date\"].dt.year) / 365)\n",
    "#     preprocessed_data[\"year_cos\"] = np.cos((2 * np.pi * preprocessed_data[\"Date\"].dt.year) / 365)\n",
    "\n",
    "#     # sine and cosine transformation of month\n",
    "#     preprocessed_data[\"month_sin\"] = np.sin((2 * np.pi * preprocessed_data[\"Date\"].dt.month) / 12)\n",
    "#     preprocessed_data[\"month_cos\"] = np.cos((2 * np.pi * preprocessed_data[\"Date\"].dt.month) / 12)\n",
    "\n",
    "#     # sine and cosine transformation of day\n",
    "#     preprocessed_data[\"day_sin\"] = np.sin((2 * np.pi * preprocessed_data[\"Date\"].dt.day) / 7)\n",
    "#     preprocessed_data[\"day_cos\"] = np.sin((2 * np.pi * preprocessed_data[\"Date\"].dt.day) / 7)\n",
    "\n",
    "#     # Drop date and code column\n",
    "#     preprocessed_data.drop([\"Date\", \"code\"], axis = 1, inplace = True)\n",
    "#     return preprocessed_data"
   ]
  },
  {
   "cell_type": "code",
   "execution_count": 3,
   "metadata": {},
   "outputs": [],
   "source": [
    "# data = pd.read_csv(os.path.join(\"..\", \"Data\", \"train\", \"ACB_data.csv\"))\n",
    "# data = preprocess(data)\n",
    "# data.head()"
   ]
  },
  {
   "cell_type": "markdown",
   "metadata": {},
   "source": [
    "# Test function training"
   ]
  },
  {
   "cell_type": "code",
   "execution_count": 8,
   "metadata": {},
   "outputs": [],
   "source": [
    "import engine\n",
    "import architecture\n",
    "import data_setup\n",
    "import os\n",
    "import torch"
   ]
  },
  {
   "cell_type": "code",
   "execution_count": 9,
   "metadata": {},
   "outputs": [],
   "source": [
    "# Read and change data into DataLoader\n",
    "train_dataloader = data_setup.create_dataloaders(os.path.join(\"..\", \"Data\", \"train\", \"ACB_data.csv\"), \n",
    "                                     target_col='close', \n",
    "                                     batch_size=64)\n"
   ]
  },
  {
   "cell_type": "code",
   "execution_count": 10,
   "metadata": {},
   "outputs": [
    {
     "data": {
      "text/plain": [
       "torch.Size([64])"
      ]
     },
     "execution_count": 10,
     "metadata": {},
     "output_type": "execute_result"
    }
   ],
   "source": [
    "next(iter(train_dataloader))[1].shape"
   ]
  },
  {
   "cell_type": "code",
   "execution_count": 11,
   "metadata": {},
   "outputs": [],
   "source": [
    "# Initialise model\n",
    "model = architecture.SPP(input_size=12,\n",
    "                         hidden_size=64,\n",
    "                         output_shape=1)"
   ]
  },
  {
   "cell_type": "code",
   "execution_count": 12,
   "metadata": {},
   "outputs": [],
   "source": [
    "# Loss function and optimizer\n",
    "loss_func = torch.nn.MSELoss()\n",
    "optimizer = torch.optim.Adam(params=model.parameters(),\n",
    "                             lr=0.01)"
   ]
  },
  {
   "cell_type": "code",
   "execution_count": 13,
   "metadata": {},
   "outputs": [
    {
     "name": "stderr",
     "output_type": "stream",
     "text": [
      " 10%|█         | 1/10 [00:03<00:27,  3.02s/it]"
     ]
    },
    {
     "name": "stdout",
     "output_type": "stream",
     "text": [
      "Epoch: 1 | Train loss: 675.2413 | Train evaluation score: 5.8105\n"
     ]
    },
    {
     "name": "stderr",
     "output_type": "stream",
     "text": [
      " 20%|██        | 2/10 [00:05<00:19,  2.48s/it]"
     ]
    },
    {
     "name": "stdout",
     "output_type": "stream",
     "text": [
      "Epoch: 2 | Train loss: 507.5280 | Train evaluation score: 5.0375\n"
     ]
    },
    {
     "name": "stderr",
     "output_type": "stream",
     "text": [
      " 30%|███       | 3/10 [00:07<00:16,  2.30s/it]"
     ]
    },
    {
     "name": "stdout",
     "output_type": "stream",
     "text": [
      "Epoch: 3 | Train loss: 261.5514 | Train evaluation score: 3.6163\n"
     ]
    },
    {
     "name": "stderr",
     "output_type": "stream",
     "text": [
      " 40%|████      | 4/10 [00:09<00:13,  2.20s/it]"
     ]
    },
    {
     "name": "stdout",
     "output_type": "stream",
     "text": [
      "Epoch: 4 | Train loss: 112.5948 | Train evaluation score: 2.3727\n"
     ]
    },
    {
     "name": "stderr",
     "output_type": "stream",
     "text": [
      " 50%|█████     | 5/10 [00:11<00:11,  2.23s/it]"
     ]
    },
    {
     "name": "stdout",
     "output_type": "stream",
     "text": [
      "Epoch: 5 | Train loss: 56.1080 | Train evaluation score: 1.6749\n"
     ]
    },
    {
     "name": "stderr",
     "output_type": "stream",
     "text": [
      " 60%|██████    | 6/10 [00:13<00:08,  2.18s/it]"
     ]
    },
    {
     "name": "stdout",
     "output_type": "stream",
     "text": [
      "Epoch: 6 | Train loss: 46.8467 | Train evaluation score: 1.5305\n"
     ]
    },
    {
     "name": "stderr",
     "output_type": "stream",
     "text": [
      " 70%|███████   | 7/10 [00:15<00:06,  2.11s/it]"
     ]
    },
    {
     "name": "stdout",
     "output_type": "stream",
     "text": [
      "Epoch: 7 | Train loss: 44.3956 | Train evaluation score: 1.4899\n"
     ]
    },
    {
     "name": "stderr",
     "output_type": "stream",
     "text": [
      " 80%|████████  | 8/10 [00:17<00:04,  2.07s/it]"
     ]
    },
    {
     "name": "stdout",
     "output_type": "stream",
     "text": [
      "Epoch: 8 | Train loss: 47.0714 | Train evaluation score: 1.5341\n"
     ]
    },
    {
     "name": "stderr",
     "output_type": "stream",
     "text": [
      " 90%|█████████ | 9/10 [00:19<00:02,  2.05s/it]"
     ]
    },
    {
     "name": "stdout",
     "output_type": "stream",
     "text": [
      "Epoch: 9 | Train loss: 43.2757 | Train evaluation score: 1.4710\n"
     ]
    },
    {
     "name": "stderr",
     "output_type": "stream",
     "text": [
      "100%|██████████| 10/10 [00:21<00:00,  2.18s/it]"
     ]
    },
    {
     "name": "stdout",
     "output_type": "stream",
     "text": [
      "Epoch: 10 | Train loss: 36.3236 | Train evaluation score: 1.3477\n"
     ]
    },
    {
     "name": "stderr",
     "output_type": "stream",
     "text": [
      "\n"
     ]
    }
   ],
   "source": [
    "# Training\n",
    "results = engine.train(model=model,\n",
    "                       train_dataloader=train_dataloader,\n",
    "                       loss_func=loss_func,\n",
    "                       epochs = 20,\n",
    "                       optimizer=optimizer)"
   ]
  }
 ],
 "metadata": {
  "kernelspec": {
   "display_name": ".venv",
   "language": "python",
   "name": "python3"
  },
  "language_info": {
   "codemirror_mode": {
    "name": "ipython",
    "version": 3
   },
   "file_extension": ".py",
   "mimetype": "text/x-python",
   "name": "python",
   "nbconvert_exporter": "python",
   "pygments_lexer": "ipython3",
   "version": "3.12.0"
  }
 },
 "nbformat": 4,
 "nbformat_minor": 2
}
