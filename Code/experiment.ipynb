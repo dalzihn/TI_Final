{
 "cells": [
  {
   "cell_type": "code",
   "execution_count": 1,
   "metadata": {},
   "outputs": [
    {
     "name": "stderr",
     "output_type": "stream",
     "text": [
      "/Users/lam.nguyen/Desktop/GithubClone/TI_Final/.venv/lib/python3.12/site-packages/tqdm/auto.py:21: TqdmWarning: IProgress not found. Please update jupyter and ipywidgets. See https://ipywidgets.readthedocs.io/en/stable/user_install.html\n",
      "  from .autonotebook import tqdm as notebook_tqdm\n"
     ]
    }
   ],
   "source": [
    "import architecture\n",
    "import data_setup\n",
    "import engine\n",
    "import os \n",
    "import torch"
   ]
  },
  {
   "cell_type": "markdown",
   "metadata": {},
   "source": [
    "# Set up folder and data zone"
   ]
  },
  {
   "cell_type": "code",
   "execution_count": 2,
   "metadata": {},
   "outputs": [],
   "source": [
    "# # Set up folder and extract files in zip\n",
    "# data_setup.extractzip()"
   ]
  },
  {
   "cell_type": "code",
   "execution_count": 3,
   "metadata": {},
   "outputs": [],
   "source": [
    "# data_setup.concat_files(\"train\")"
   ]
  },
  {
   "cell_type": "code",
   "execution_count": 4,
   "metadata": {},
   "outputs": [],
   "source": [
    "# data_setup.concat_files(\"test\")"
   ]
  },
  {
   "cell_type": "markdown",
   "metadata": {},
   "source": [
    "# Testing zone"
   ]
  },
  {
   "cell_type": "code",
   "execution_count": 5,
   "metadata": {},
   "outputs": [],
   "source": [
    "# # Read and change data into DataLoader\n",
    "# train_dataloader = data_setup.create_dataloaders(os.path.join(\"..\", \"Data\", \"train\", \"FLC_data.csv\"), \n",
    "#                                                  target_col='close', \n",
    "#                                                  batch_size=64)\n"
   ]
  },
  {
   "cell_type": "code",
   "execution_count": 6,
   "metadata": {},
   "outputs": [],
   "source": [
    "# next(iter(train_dataloader))[0].shape"
   ]
  },
  {
   "cell_type": "code",
   "execution_count": 7,
   "metadata": {},
   "outputs": [],
   "source": [
    "# # Initialise model\n",
    "# model = architecture.SPP(input_size=12,\n",
    "#                          hidden_size=64,\n",
    "#                          output_shape=1)"
   ]
  },
  {
   "cell_type": "code",
   "execution_count": 8,
   "metadata": {},
   "outputs": [],
   "source": [
    "# # Loss function and optimizer\n",
    "# loss_func = torch.nn.MSELoss()\n",
    "# optimizer = torch.optim.Adam(params=model.parameters(),\n",
    "#                              lr=0.01)"
   ]
  },
  {
   "cell_type": "code",
   "execution_count": 9,
   "metadata": {},
   "outputs": [],
   "source": [
    "# from torchinfo import summary\n",
    "\n",
    "# summary(model,\n",
    "#         input_size=(64, 12),\n",
    "#         col_names = ['input_size', 'output_size', 'num_params', 'trainable'],\n",
    "#         row_settings = [\"var_names\"])"
   ]
  },
  {
   "cell_type": "code",
   "execution_count": 10,
   "metadata": {},
   "outputs": [],
   "source": [
    "# writer = engine.create_writer(experiment_name=\"SPP\",\n",
    "#                               model_name=\"base\")"
   ]
  },
  {
   "cell_type": "code",
   "execution_count": 11,
   "metadata": {},
   "outputs": [],
   "source": [
    "# # Training\n",
    "# results = engine.train(model=model,\n",
    "#                        train_dataloader=train_dataloader,\n",
    "#                        loss_func=loss_func,\n",
    "#                        epochs = 5,\n",
    "#                        optimizer=optimizer)\n",
    "#                     #    writer=writer)"
   ]
  },
  {
   "cell_type": "markdown",
   "metadata": {},
   "source": [
    "# Training"
   ]
  },
  {
   "cell_type": "code",
   "execution_count": 12,
   "metadata": {},
   "outputs": [],
   "source": [
    "# import pandas as pd\n",
    "# data = pd.read_csv(os.path.join(\"..\", \"Data\", \"train\", \"StockData_train.csv\"))\n",
    "# samples = data.sample(n=50000, ignore_index=True).drop('Unnamed: 0', axis = 1)\n",
    "# samples.to_csv(os.path.join(\"..\", \"Data\", \"train\", \"StockData50_train.csv\"))"
   ]
  },
  {
   "cell_type": "code",
   "execution_count": 13,
   "metadata": {},
   "outputs": [
    {
     "data": {
      "text/plain": [
       "device(type='cpu')"
      ]
     },
     "execution_count": 13,
     "metadata": {},
     "output_type": "execute_result"
    }
   ],
   "source": [
    "device = torch.device('cuda' if torch.cuda.is_available() else 'cpu')\n",
    "device"
   ]
  },
  {
   "cell_type": "code",
   "execution_count": 14,
   "metadata": {},
   "outputs": [],
   "source": [
    "# Read and change data into DataLoader\n",
    "train_dataloader = data_setup.create_dataloaders(train_path=os.path.join(\"..\", \"Data\", \"train\", \"StockData32_train.csv\"), \n",
    "                                                 target_col='close', \n",
    "                                                 batch_size=128)\n"
   ]
  },
  {
   "cell_type": "code",
   "execution_count": 15,
   "metadata": {},
   "outputs": [],
   "source": [
    "# Initialise model\n",
    "model = architecture.SPP(input_size=12,\n",
    "                         hidden_size=256,\n",
    "                         output_shape=1).to(device)"
   ]
  },
  {
   "cell_type": "code",
   "execution_count": 16,
   "metadata": {},
   "outputs": [],
   "source": [
    "# Loss function and optimizer\n",
    "loss_func = torch.nn.MSELoss()\n",
    "optimizer = torch.optim.Adam(params=model.parameters(),\n",
    "                             lr=0.001)"
   ]
  },
  {
   "cell_type": "code",
   "execution_count": 17,
   "metadata": {},
   "outputs": [
    {
     "data": {
      "text/plain": [
       "============================================================================================================================================\n",
       "Layer (type (var_name))                  Input Shape               Output Shape              Param #                   Trainable\n",
       "============================================================================================================================================\n",
       "SPP (SPP)                                [256, 12]                 [256, 1]                  --                        True\n",
       "├─BNLSTM (bnlstm1)                       [256, 12]                 [256, 256]                512                       True\n",
       "│    └─BNLSTMCell (bnlstmcell)           --                        [256, 256]                275,456                   True\n",
       "│    │    └─BatchNorm1d (bn_hidden)      [256, 1024]               [256, 1024]               2,048                     True\n",
       "│    │    └─BatchNorm1d (bn_input)       [256, 1024]               [256, 1024]               2,048                     True\n",
       "│    │    └─BatchNorm1d (bn_c)           [256, 256]                [256, 256]                512                       True\n",
       "├─Dropout (dropout1)                     [256, 256]                [256, 256]                --                        --\n",
       "├─BNLSTM (bnlstm2)                       [256, 256]                [256, 256]                512                       True\n",
       "│    └─BNLSTMCell (bnlstmcell)           --                        [256, 256]                525,312                   True\n",
       "│    │    └─BatchNorm1d (bn_hidden)      [256, 1024]               [256, 1024]               2,048                     True\n",
       "│    │    └─BatchNorm1d (bn_input)       [256, 1024]               [256, 1024]               2,048                     True\n",
       "│    │    └─BatchNorm1d (bn_c)           [256, 256]                [256, 256]                512                       True\n",
       "├─Dropout (dropout2)                     [256, 256]                [256, 256]                --                        --\n",
       "├─BNLSTM (bnlstm3)                       [256, 256]                [256, 256]                512                       True\n",
       "│    └─BNLSTMCell (bnlstmcell)           --                        [256, 256]                525,312                   True\n",
       "│    │    └─BatchNorm1d (bn_hidden)      [256, 1024]               [256, 1024]               2,048                     True\n",
       "│    │    └─BatchNorm1d (bn_input)       [256, 1024]               [256, 1024]               2,048                     True\n",
       "│    │    └─BatchNorm1d (bn_c)           [256, 256]                [256, 256]                512                       True\n",
       "├─Dropout (dropout3)                     [256, 256]                [256, 256]                --                        --\n",
       "├─BNLSTM (bnlstm4)                       [256, 256]                [256, 256]                512                       True\n",
       "│    └─BNLSTMCell (bnlstmcell)           --                        [256, 256]                525,312                   True\n",
       "│    │    └─BatchNorm1d (bn_hidden)      [256, 1024]               [256, 1024]               2,048                     True\n",
       "│    │    └─BatchNorm1d (bn_input)       [256, 1024]               [256, 1024]               2,048                     True\n",
       "│    │    └─BatchNorm1d (bn_c)           [256, 256]                [256, 256]                512                       True\n",
       "├─Dropout (dropout4)                     [256, 256]                [256, 256]                --                        --\n",
       "├─BNLSTM (bnlstm5)                       [256, 256]                [256, 256]                512                       True\n",
       "│    └─BNLSTMCell (bnlstmcell)           --                        [256, 256]                525,312                   True\n",
       "│    │    └─BatchNorm1d (bn_hidden)      [256, 1024]               [256, 1024]               2,048                     True\n",
       "│    │    └─BatchNorm1d (bn_input)       [256, 1024]               [256, 1024]               2,048                     True\n",
       "│    │    └─BatchNorm1d (bn_c)           [256, 256]                [256, 256]                512                       True\n",
       "├─Dropout (dropout5)                     [256, 256]                [256, 256]                --                        --\n",
       "├─Linear (linear)                        [256, 256]                [256, 1]                  257                       True\n",
       "============================================================================================================================================\n",
       "Total params: 2,402,561\n",
       "Trainable params: 2,402,561\n",
       "Non-trainable params: 0\n",
       "Total mult-adds (Units.MEGABYTES): 5.96\n",
       "============================================================================================================================================\n",
       "Input size (MB): 0.01\n",
       "Forward/backward pass size (MB): 23.60\n",
       "Params size (MB): 0.09\n",
       "Estimated Total Size (MB): 23.70\n",
       "============================================================================================================================================"
      ]
     },
     "execution_count": 17,
     "metadata": {},
     "output_type": "execute_result"
    }
   ],
   "source": [
    "from torchinfo import summary\n",
    "\n",
    "summary(model, \n",
    "        input_size=(256, 12),\n",
    "        col_names = ['input_size', 'output_size', 'num_params', 'trainable'],\n",
    "        row_settings = [\"var_names\"])"
   ]
  },
  {
   "cell_type": "code",
   "execution_count": 18,
   "metadata": {},
   "outputs": [
    {
     "name": "stdout",
     "output_type": "stream",
     "text": [
      "[INFO] An instane of SummaryWriter is created, saving to: ../log/2025-03-17/development/bnlstm_five\n"
     ]
    }
   ],
   "source": [
    "# writer = engine.create_writer(experiment_name=\"development\",\n",
    "#                               model_name=\"bnlstm_five\")"
   ]
  },
  {
   "cell_type": "code",
   "execution_count": 19,
   "metadata": {},
   "outputs": [
    {
     "name": "stderr",
     "output_type": "stream",
     "text": [
      "  0%|          | 0/50 [00:00<?, ?it/s]"
     ]
    },
    {
     "name": "stderr",
     "output_type": "stream",
     "text": [
      "  2%|▏         | 1/50 [01:12<58:53, 72.11s/it]"
     ]
    },
    {
     "name": "stdout",
     "output_type": "stream",
     "text": [
      "Epoch: 1 | Train loss: 16.5558 | Train evaluation score: 4.0689\n"
     ]
    },
    {
     "name": "stderr",
     "output_type": "stream",
     "text": [
      "  4%|▍         | 2/50 [02:22<56:40, 70.83s/it]"
     ]
    },
    {
     "name": "stdout",
     "output_type": "stream",
     "text": [
      "Epoch: 2 | Train loss: 4.4242 | Train evaluation score: 2.1034\n"
     ]
    },
    {
     "name": "stderr",
     "output_type": "stream",
     "text": [
      "  6%|▌         | 3/50 [03:40<58:01, 74.08s/it]"
     ]
    },
    {
     "name": "stdout",
     "output_type": "stream",
     "text": [
      "Epoch: 3 | Train loss: 2.0328 | Train evaluation score: 1.4258\n"
     ]
    },
    {
     "name": "stderr",
     "output_type": "stream",
     "text": [
      "  8%|▊         | 4/50 [04:54<57:00, 74.36s/it]"
     ]
    },
    {
     "name": "stdout",
     "output_type": "stream",
     "text": [
      "Epoch: 4 | Train loss: 1.3487 | Train evaluation score: 1.1614\n"
     ]
    },
    {
     "name": "stderr",
     "output_type": "stream",
     "text": [
      " 10%|█         | 5/50 [06:09<55:57, 74.61s/it]"
     ]
    },
    {
     "name": "stdout",
     "output_type": "stream",
     "text": [
      "Epoch: 5 | Train loss: 1.0420 | Train evaluation score: 1.0208\n"
     ]
    },
    {
     "name": "stderr",
     "output_type": "stream",
     "text": [
      " 12%|█▏        | 6/50 [07:24<54:40, 74.56s/it]"
     ]
    },
    {
     "name": "stdout",
     "output_type": "stream",
     "text": [
      "Epoch: 6 | Train loss: 0.8516 | Train evaluation score: 0.9228\n"
     ]
    },
    {
     "name": "stderr",
     "output_type": "stream",
     "text": [
      " 14%|█▍        | 7/50 [08:39<53:31, 74.68s/it]"
     ]
    },
    {
     "name": "stdout",
     "output_type": "stream",
     "text": [
      "Epoch: 7 | Train loss: 0.7217 | Train evaluation score: 0.8495\n"
     ]
    },
    {
     "name": "stderr",
     "output_type": "stream",
     "text": [
      " 16%|█▌        | 8/50 [09:54<52:18, 74.74s/it]"
     ]
    },
    {
     "name": "stdout",
     "output_type": "stream",
     "text": [
      "Epoch: 8 | Train loss: 0.6123 | Train evaluation score: 0.7825\n"
     ]
    },
    {
     "name": "stderr",
     "output_type": "stream",
     "text": [
      " 18%|█▊        | 9/50 [11:08<50:58, 74.60s/it]"
     ]
    },
    {
     "name": "stdout",
     "output_type": "stream",
     "text": [
      "Epoch: 9 | Train loss: 0.5358 | Train evaluation score: 0.7320\n"
     ]
    },
    {
     "name": "stderr",
     "output_type": "stream",
     "text": [
      " 20%|██        | 10/50 [12:22<49:39, 74.49s/it]"
     ]
    },
    {
     "name": "stdout",
     "output_type": "stream",
     "text": [
      "Epoch: 10 | Train loss: 0.4910 | Train evaluation score: 0.7007\n"
     ]
    },
    {
     "name": "stderr",
     "output_type": "stream",
     "text": [
      " 22%|██▏       | 11/50 [13:35<48:00, 73.85s/it]"
     ]
    },
    {
     "name": "stdout",
     "output_type": "stream",
     "text": [
      "Epoch: 11 | Train loss: 0.4233 | Train evaluation score: 0.6506\n"
     ]
    },
    {
     "name": "stderr",
     "output_type": "stream",
     "text": [
      " 24%|██▍       | 12/50 [14:47<46:35, 73.56s/it]"
     ]
    },
    {
     "name": "stdout",
     "output_type": "stream",
     "text": [
      "Epoch: 12 | Train loss: 0.3747 | Train evaluation score: 0.6122\n"
     ]
    },
    {
     "name": "stderr",
     "output_type": "stream",
     "text": [
      " 26%|██▌       | 13/50 [15:59<45:04, 73.09s/it]"
     ]
    },
    {
     "name": "stdout",
     "output_type": "stream",
     "text": [
      "Epoch: 13 | Train loss: 0.3457 | Train evaluation score: 0.5880\n"
     ]
    },
    {
     "name": "stderr",
     "output_type": "stream",
     "text": [
      " 28%|██▊       | 14/50 [17:12<43:41, 72.82s/it]"
     ]
    },
    {
     "name": "stdout",
     "output_type": "stream",
     "text": [
      "Epoch: 14 | Train loss: 0.3096 | Train evaluation score: 0.5564\n"
     ]
    },
    {
     "name": "stderr",
     "output_type": "stream",
     "text": [
      " 30%|███       | 15/50 [18:26<42:41, 73.19s/it]"
     ]
    },
    {
     "name": "stdout",
     "output_type": "stream",
     "text": [
      "Epoch: 15 | Train loss: 0.2741 | Train evaluation score: 0.5235\n"
     ]
    },
    {
     "name": "stderr",
     "output_type": "stream",
     "text": [
      " 32%|███▏      | 16/50 [19:40<41:39, 73.53s/it]"
     ]
    },
    {
     "name": "stdout",
     "output_type": "stream",
     "text": [
      "Epoch: 16 | Train loss: 0.2851 | Train evaluation score: 0.5340\n"
     ]
    },
    {
     "name": "stderr",
     "output_type": "stream",
     "text": [
      " 34%|███▍      | 17/50 [20:54<40:30, 73.64s/it]"
     ]
    },
    {
     "name": "stdout",
     "output_type": "stream",
     "text": [
      "Epoch: 17 | Train loss: 0.2468 | Train evaluation score: 0.4968\n"
     ]
    },
    {
     "name": "stderr",
     "output_type": "stream",
     "text": [
      " 36%|███▌      | 18/50 [22:08<39:18, 73.72s/it]"
     ]
    },
    {
     "name": "stdout",
     "output_type": "stream",
     "text": [
      "Epoch: 18 | Train loss: 0.2468 | Train evaluation score: 0.4968\n"
     ]
    },
    {
     "name": "stderr",
     "output_type": "stream",
     "text": [
      " 38%|███▊      | 19/50 [23:21<38:04, 73.69s/it]"
     ]
    },
    {
     "name": "stdout",
     "output_type": "stream",
     "text": [
      "Epoch: 19 | Train loss: 0.2294 | Train evaluation score: 0.4789\n"
     ]
    },
    {
     "name": "stderr",
     "output_type": "stream",
     "text": [
      " 40%|████      | 20/50 [24:34<36:40, 73.36s/it]"
     ]
    },
    {
     "name": "stdout",
     "output_type": "stream",
     "text": [
      "Epoch: 20 | Train loss: 0.2130 | Train evaluation score: 0.4615\n"
     ]
    },
    {
     "name": "stderr",
     "output_type": "stream",
     "text": [
      " 42%|████▏     | 21/50 [25:46<35:19, 73.07s/it]"
     ]
    },
    {
     "name": "stdout",
     "output_type": "stream",
     "text": [
      "Epoch: 21 | Train loss: 0.2101 | Train evaluation score: 0.4584\n"
     ]
    },
    {
     "name": "stderr",
     "output_type": "stream",
     "text": [
      " 44%|████▍     | 22/50 [26:59<34:00, 72.86s/it]"
     ]
    },
    {
     "name": "stdout",
     "output_type": "stream",
     "text": [
      "Epoch: 22 | Train loss: 0.2094 | Train evaluation score: 0.4576\n"
     ]
    },
    {
     "name": "stderr",
     "output_type": "stream",
     "text": [
      " 46%|████▌     | 23/50 [28:11<32:44, 72.78s/it]"
     ]
    },
    {
     "name": "stdout",
     "output_type": "stream",
     "text": [
      "Epoch: 23 | Train loss: 0.1989 | Train evaluation score: 0.4460\n"
     ]
    },
    {
     "name": "stderr",
     "output_type": "stream",
     "text": [
      " 48%|████▊     | 24/50 [29:24<31:28, 72.65s/it]"
     ]
    },
    {
     "name": "stdout",
     "output_type": "stream",
     "text": [
      "Epoch: 24 | Train loss: 0.2006 | Train evaluation score: 0.4478\n"
     ]
    },
    {
     "name": "stderr",
     "output_type": "stream",
     "text": [
      " 50%|█████     | 25/50 [30:36<30:16, 72.64s/it]"
     ]
    },
    {
     "name": "stdout",
     "output_type": "stream",
     "text": [
      "Epoch: 25 | Train loss: 0.1776 | Train evaluation score: 0.4215\n"
     ]
    },
    {
     "name": "stderr",
     "output_type": "stream",
     "text": [
      " 52%|█████▏    | 26/50 [31:51<29:14, 73.11s/it]"
     ]
    },
    {
     "name": "stdout",
     "output_type": "stream",
     "text": [
      "Epoch: 26 | Train loss: 0.1898 | Train evaluation score: 0.4357\n"
     ]
    },
    {
     "name": "stderr",
     "output_type": "stream",
     "text": [
      " 54%|█████▍    | 27/50 [33:03<27:56, 72.88s/it]"
     ]
    },
    {
     "name": "stdout",
     "output_type": "stream",
     "text": [
      "Epoch: 27 | Train loss: 0.1762 | Train evaluation score: 0.4197\n"
     ]
    },
    {
     "name": "stderr",
     "output_type": "stream",
     "text": [
      " 56%|█████▌    | 28/50 [34:15<26:38, 72.64s/it]"
     ]
    },
    {
     "name": "stdout",
     "output_type": "stream",
     "text": [
      "Epoch: 28 | Train loss: 0.1708 | Train evaluation score: 0.4133\n"
     ]
    },
    {
     "name": "stderr",
     "output_type": "stream",
     "text": [
      " 58%|█████▊    | 29/50 [35:27<25:24, 72.60s/it]"
     ]
    },
    {
     "name": "stdout",
     "output_type": "stream",
     "text": [
      "Epoch: 29 | Train loss: 0.1865 | Train evaluation score: 0.4318\n"
     ]
    },
    {
     "name": "stderr",
     "output_type": "stream",
     "text": [
      " 60%|██████    | 30/50 [36:45<24:42, 74.12s/it]"
     ]
    },
    {
     "name": "stdout",
     "output_type": "stream",
     "text": [
      "Epoch: 30 | Train loss: 0.1807 | Train evaluation score: 0.4251\n"
     ]
    },
    {
     "name": "stderr",
     "output_type": "stream",
     "text": [
      " 62%|██████▏   | 31/50 [38:00<23:34, 74.43s/it]"
     ]
    },
    {
     "name": "stdout",
     "output_type": "stream",
     "text": [
      "Epoch: 31 | Train loss: 0.1646 | Train evaluation score: 0.4057\n"
     ]
    },
    {
     "name": "stderr",
     "output_type": "stream",
     "text": [
      " 64%|██████▍   | 32/50 [39:11<22:01, 73.42s/it]"
     ]
    },
    {
     "name": "stdout",
     "output_type": "stream",
     "text": [
      "Epoch: 32 | Train loss: 0.1562 | Train evaluation score: 0.3952\n"
     ]
    },
    {
     "name": "stderr",
     "output_type": "stream",
     "text": [
      " 66%|██████▌   | 33/50 [40:22<20:35, 72.70s/it]"
     ]
    },
    {
     "name": "stdout",
     "output_type": "stream",
     "text": [
      "Epoch: 33 | Train loss: 0.1577 | Train evaluation score: 0.3971\n"
     ]
    },
    {
     "name": "stderr",
     "output_type": "stream",
     "text": [
      " 68%|██████▊   | 34/50 [41:38<19:38, 73.66s/it]"
     ]
    },
    {
     "name": "stdout",
     "output_type": "stream",
     "text": [
      "Epoch: 34 | Train loss: 0.1654 | Train evaluation score: 0.4068\n"
     ]
    },
    {
     "name": "stderr",
     "output_type": "stream",
     "text": [
      " 70%|███████   | 35/50 [42:55<18:37, 74.52s/it]"
     ]
    },
    {
     "name": "stdout",
     "output_type": "stream",
     "text": [
      "Epoch: 35 | Train loss: 0.1812 | Train evaluation score: 0.4257\n"
     ]
    },
    {
     "name": "stderr",
     "output_type": "stream",
     "text": [
      " 72%|███████▏  | 36/50 [44:21<18:14, 78.17s/it]"
     ]
    },
    {
     "name": "stdout",
     "output_type": "stream",
     "text": [
      "Epoch: 36 | Train loss: 0.1597 | Train evaluation score: 0.3996\n"
     ]
    },
    {
     "name": "stderr",
     "output_type": "stream",
     "text": [
      " 74%|███████▍  | 37/50 [45:34<16:35, 76.56s/it]"
     ]
    },
    {
     "name": "stdout",
     "output_type": "stream",
     "text": [
      "Epoch: 37 | Train loss: 0.1527 | Train evaluation score: 0.3908\n"
     ]
    },
    {
     "name": "stderr",
     "output_type": "stream",
     "text": [
      " 76%|███████▌  | 38/50 [46:46<15:02, 75.25s/it]"
     ]
    },
    {
     "name": "stdout",
     "output_type": "stream",
     "text": [
      "Epoch: 38 | Train loss: 0.1441 | Train evaluation score: 0.3796\n"
     ]
    },
    {
     "name": "stderr",
     "output_type": "stream",
     "text": [
      " 78%|███████▊  | 39/50 [48:07<14:04, 76.74s/it]"
     ]
    },
    {
     "name": "stdout",
     "output_type": "stream",
     "text": [
      "Epoch: 39 | Train loss: 0.1333 | Train evaluation score: 0.3651\n"
     ]
    },
    {
     "name": "stderr",
     "output_type": "stream",
     "text": [
      " 80%|████████  | 40/50 [49:24<12:50, 77.02s/it]"
     ]
    },
    {
     "name": "stdout",
     "output_type": "stream",
     "text": [
      "Epoch: 40 | Train loss: 0.1402 | Train evaluation score: 0.3745\n"
     ]
    },
    {
     "name": "stderr",
     "output_type": "stream",
     "text": [
      " 82%|████████▏ | 41/50 [50:44<11:41, 77.90s/it]"
     ]
    },
    {
     "name": "stdout",
     "output_type": "stream",
     "text": [
      "Epoch: 41 | Train loss: 0.1666 | Train evaluation score: 0.4081\n"
     ]
    },
    {
     "name": "stderr",
     "output_type": "stream",
     "text": [
      " 84%|████████▍ | 42/50 [51:58<10:13, 76.66s/it]"
     ]
    },
    {
     "name": "stdout",
     "output_type": "stream",
     "text": [
      "Epoch: 42 | Train loss: 0.1413 | Train evaluation score: 0.3758\n"
     ]
    },
    {
     "name": "stderr",
     "output_type": "stream",
     "text": [
      " 86%|████████▌ | 43/50 [53:11<08:49, 75.69s/it]"
     ]
    },
    {
     "name": "stdout",
     "output_type": "stream",
     "text": [
      "Epoch: 43 | Train loss: 0.1402 | Train evaluation score: 0.3744\n"
     ]
    },
    {
     "name": "stderr",
     "output_type": "stream",
     "text": [
      " 88%|████████▊ | 44/50 [54:49<08:13, 82.31s/it]"
     ]
    },
    {
     "name": "stdout",
     "output_type": "stream",
     "text": [
      "Epoch: 44 | Train loss: 0.1496 | Train evaluation score: 0.3867\n"
     ]
    },
    {
     "name": "stderr",
     "output_type": "stream",
     "text": [
      " 90%|█████████ | 45/50 [56:07<06:45, 81.02s/it]"
     ]
    },
    {
     "name": "stdout",
     "output_type": "stream",
     "text": [
      "Epoch: 45 | Train loss: 0.1403 | Train evaluation score: 0.3746\n"
     ]
    },
    {
     "name": "stderr",
     "output_type": "stream",
     "text": [
      " 92%|█████████▏| 46/50 [57:18<05:12, 78.05s/it]"
     ]
    },
    {
     "name": "stdout",
     "output_type": "stream",
     "text": [
      "Epoch: 46 | Train loss: 0.1351 | Train evaluation score: 0.3675\n"
     ]
    },
    {
     "name": "stderr",
     "output_type": "stream",
     "text": [
      " 94%|█████████▍| 47/50 [58:43<04:00, 80.01s/it]"
     ]
    },
    {
     "name": "stdout",
     "output_type": "stream",
     "text": [
      "Epoch: 47 | Train loss: 0.1439 | Train evaluation score: 0.3793\n"
     ]
    },
    {
     "name": "stderr",
     "output_type": "stream",
     "text": [
      " 96%|█████████▌| 48/50 [1:00:08<02:42, 81.39s/it]"
     ]
    },
    {
     "name": "stdout",
     "output_type": "stream",
     "text": [
      "Epoch: 48 | Train loss: 0.1358 | Train evaluation score: 0.3685\n"
     ]
    },
    {
     "name": "stderr",
     "output_type": "stream",
     "text": [
      " 98%|█████████▊| 49/50 [1:01:19<01:18, 78.32s/it]"
     ]
    },
    {
     "name": "stdout",
     "output_type": "stream",
     "text": [
      "Epoch: 49 | Train loss: 0.1311 | Train evaluation score: 0.3621\n"
     ]
    },
    {
     "name": "stderr",
     "output_type": "stream",
     "text": [
      "100%|██████████| 50/50 [1:02:32<00:00, 75.05s/it]"
     ]
    },
    {
     "name": "stdout",
     "output_type": "stream",
     "text": [
      "Epoch: 50 | Train loss: 0.1297 | Train evaluation score: 0.3602\n"
     ]
    },
    {
     "name": "stderr",
     "output_type": "stream",
     "text": [
      "\n"
     ]
    }
   ],
   "source": [
    "# Training\n",
    "results = engine.train(model=model,\n",
    "                       train_dataloader=train_dataloader,\n",
    "                       loss_func=loss_func,\n",
    "                       epochs = 50,\n",
    "                       optimizer=optimizer,\n",
    "                       writer=writer,\n",
    "                       device=device)"
   ]
  },
  {
   "cell_type": "code",
   "execution_count": 20,
   "metadata": {},
   "outputs": [
    {
     "name": "stdout",
     "output_type": "stream",
     "text": [
      "[INFO] Model is saved successfully to ../model/bnlstmfive32_256_128_0001\n"
     ]
    },
    {
     "data": {
      "text/plain": [
       "'../model/bnlstmfive32_256_128_0001'"
      ]
     },
     "execution_count": 20,
     "metadata": {},
     "output_type": "execute_result"
    }
   ],
   "source": [
    "engine.save_model(model=model,\n",
    "                  model_name=\"bnlstmfive32_256_128_0001\",\n",
    "                  save_folder=os.path.join(\"..\", \"model\"))"
   ]
  },
  {
   "cell_type": "code",
   "execution_count": 21,
   "metadata": {},
   "outputs": [],
   "source": [
    "import pandas as pd\n",
    "tosave = pd.DataFrame(results).T\n",
    "tosave.columns = ['Loss', 'Eval_score']\n",
    "tosave.to_csv(os.path.join(\"..\", \"log_df\", \"bnlstmfive32_256_128_0001.csv\"))"
   ]
  }
 ],
 "metadata": {
  "kernelspec": {
   "display_name": ".venv",
   "language": "python",
   "name": "python3"
  },
  "language_info": {
   "codemirror_mode": {
    "name": "ipython",
    "version": 3
   },
   "file_extension": ".py",
   "mimetype": "text/x-python",
   "name": "python",
   "nbconvert_exporter": "python",
   "pygments_lexer": "ipython3",
   "version": "3.12.0"
  }
 },
 "nbformat": 4,
 "nbformat_minor": 2
}
