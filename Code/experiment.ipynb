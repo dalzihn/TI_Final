{
 "cells": [
  {
   "cell_type": "code",
   "execution_count": 1,
   "metadata": {},
   "outputs": [
    {
     "name": "stderr",
     "output_type": "stream",
     "text": [
      "c:\\Users\\JOinme\\Downloads\\GithubClone\\TI_Final\\.venv\\lib\\site-packages\\tqdm\\auto.py:21: TqdmWarning: IProgress not found. Please update jupyter and ipywidgets. See https://ipywidgets.readthedocs.io/en/stable/user_install.html\n",
      "  from .autonotebook import tqdm as notebook_tqdm\n"
     ]
    }
   ],
   "source": [
    "import architecture\n",
    "import data_setup\n",
    "import engine\n",
    "import os \n",
    "import torch"
   ]
  },
  {
   "cell_type": "markdown",
   "metadata": {},
   "source": [
    "#  Set up data and folder zone"
   ]
  },
  {
   "cell_type": "code",
   "execution_count": 2,
   "metadata": {},
   "outputs": [],
   "source": [
    "# # Set up folder and extract files in zip\n",
    "# data_setup.extractzip()"
   ]
  },
  {
   "cell_type": "code",
   "execution_count": 3,
   "metadata": {},
   "outputs": [],
   "source": [
    "# data_setup.concat_files(\"train\")"
   ]
  },
  {
   "cell_type": "code",
   "execution_count": 4,
   "metadata": {},
   "outputs": [],
   "source": [
    "# data_setup.concat_files(\"test\")"
   ]
  },
  {
   "cell_type": "code",
   "execution_count": 5,
   "metadata": {},
   "outputs": [],
   "source": [
    "# # Read and change data into DataLoader\n",
    "# train_dataloader = data_setup.create_dataloaders(os.path.join(\"..\", \"Data\", \"train\", \"FLC_data.csv\"), \n",
    "#                                                  target_col='close', \n",
    "#                                                  batch_size=64)\n"
   ]
  },
  {
   "cell_type": "code",
   "execution_count": 6,
   "metadata": {},
   "outputs": [],
   "source": [
    "# next(iter(train_dataloader))[0].shape"
   ]
  },
  {
   "cell_type": "code",
   "execution_count": 7,
   "metadata": {},
   "outputs": [],
   "source": [
    "# # Initialise model\n",
    "# model = architecture.SPP(input_size=12,\n",
    "#                          hidden_size=64,\n",
    "#                          output_shape=1)"
   ]
  },
  {
   "cell_type": "code",
   "execution_count": 8,
   "metadata": {},
   "outputs": [],
   "source": [
    "# # Loss function and optimizer\n",
    "# loss_func = torch.nn.MSELoss()\n",
    "# optimizer = torch.optim.Adam(params=model.parameters(),\n",
    "#                              lr=0.01)"
   ]
  },
  {
   "cell_type": "code",
   "execution_count": 9,
   "metadata": {},
   "outputs": [],
   "source": [
    "# from torchinfo import summary\n",
    "\n",
    "# summary(model,\n",
    "#         input_size=(64, 12),\n",
    "#         col_names = ['input_size', 'output_size', 'num_params', 'trainable'],\n",
    "#         row_settings = [\"var_names\"])"
   ]
  },
  {
   "cell_type": "code",
   "execution_count": 10,
   "metadata": {},
   "outputs": [],
   "source": [
    "# writer = engine.create_writer(experiment_name=\"SPP\",\n",
    "#                               model_name=\"base\")"
   ]
  },
  {
   "cell_type": "code",
   "execution_count": 11,
   "metadata": {},
   "outputs": [],
   "source": [
    "# # Training\n",
    "# results = engine.train(model=model,\n",
    "#                        train_dataloader=train_dataloader,\n",
    "#                        loss_func=loss_func,\n",
    "#                        epochs = 5,\n",
    "#                        optimizer=optimizer)\n",
    "#                     #    writer=writer)"
   ]
  },
  {
   "cell_type": "markdown",
   "metadata": {},
   "source": [
    "# Training"
   ]
  },
  {
   "cell_type": "code",
   "execution_count": 12,
   "metadata": {},
   "outputs": [],
   "source": [
    "# import pandas as pd\n",
    "# data = pd.read_csv(os.path.join(\"..\", \"Data\", \"train\", \"StockData_train.csv\"))\n",
    "# samples = data.sample(n=50000, ignore_index=True).drop('Unnamed: 0', axis = 1)\n",
    "# samples.to_csv(os.path.join(\"..\", \"Data\", \"train\", \"StockData50_train.csv\"))"
   ]
  },
  {
   "cell_type": "code",
   "execution_count": 13,
   "metadata": {},
   "outputs": [],
   "source": [
    "lr = 0.0025\n",
    "hidden_size = 256\n",
    "batch_size = 512\n",
    "model_name = \"bnlstmfive32\" + \"_\" + str(hidden_size) + \"_\" + str(batch_size) + \"_\" + str(lr)"
   ]
  },
  {
   "cell_type": "code",
   "execution_count": 14,
   "metadata": {},
   "outputs": [
    {
     "data": {
      "text/plain": [
       "device(type='cpu')"
      ]
     },
     "execution_count": 14,
     "metadata": {},
     "output_type": "execute_result"
    }
   ],
   "source": [
    "device = torch.device('cuda' if torch.cuda.is_available() else 'cpu')\n",
    "device"
   ]
  },
  {
   "cell_type": "code",
   "execution_count": 15,
   "metadata": {},
   "outputs": [],
   "source": [
    "# Read and change data into DataLoader\n",
    "train_dataloader = data_setup.create_dataloaders(train_path=os.path.join(\"..\", \"Data\", \"train\", \"StockData32_train.csv\"), \n",
    "                                                 target_col='close', \n",
    "                                                 batch_size=batch_size)\n"
   ]
  },
  {
   "cell_type": "code",
   "execution_count": 16,
   "metadata": {},
   "outputs": [],
   "source": [
    "# Initialise model\n",
    "model = architecture.SPP(input_size=12,\n",
    "                         hidden_size=hidden_size,\n",
    "                         output_shape=1).to(device)"
   ]
  },
  {
   "cell_type": "code",
   "execution_count": 17,
   "metadata": {},
   "outputs": [],
   "source": [
    "# Loss function and optimizer\n",
    "loss_func = torch.nn.MSELoss()\n",
    "optimizer = torch.optim.Adam(params=model.parameters(),\n",
    "                             lr=lr)"
   ]
  },
  {
   "cell_type": "code",
   "execution_count": 18,
   "metadata": {},
   "outputs": [
    {
     "data": {
      "text/plain": [
       "============================================================================================================================================\n",
       "Layer (type (var_name))                  Input Shape               Output Shape              Param #                   Trainable\n",
       "============================================================================================================================================\n",
       "SPP (SPP)                                [256, 12]                 [256, 1]                  --                        True\n",
       "├─BNLSTM (bnlstm1)                       [256, 12]                 [256, 256]                512                       True\n",
       "│    └─BNLSTMCell (bnlstmcell)           --                        [256, 256]                275,456                   True\n",
       "│    │    └─BatchNorm1d (bn_hidden)      [256, 1024]               [256, 1024]               2,048                     True\n",
       "│    │    └─BatchNorm1d (bn_input)       [256, 1024]               [256, 1024]               2,048                     True\n",
       "│    │    └─BatchNorm1d (bn_c)           [256, 256]                [256, 256]                512                       True\n",
       "├─Dropout (dropout1)                     [256, 256]                [256, 256]                --                        --\n",
       "├─BNLSTM (bnlstm2)                       [256, 256]                [256, 256]                512                       True\n",
       "│    └─BNLSTMCell (bnlstmcell)           --                        [256, 256]                525,312                   True\n",
       "│    │    └─BatchNorm1d (bn_hidden)      [256, 1024]               [256, 1024]               2,048                     True\n",
       "│    │    └─BatchNorm1d (bn_input)       [256, 1024]               [256, 1024]               2,048                     True\n",
       "│    │    └─BatchNorm1d (bn_c)           [256, 256]                [256, 256]                512                       True\n",
       "├─Dropout (dropout2)                     [256, 256]                [256, 256]                --                        --\n",
       "├─BNLSTM (bnlstm3)                       [256, 256]                [256, 256]                512                       True\n",
       "│    └─BNLSTMCell (bnlstmcell)           --                        [256, 256]                525,312                   True\n",
       "│    │    └─BatchNorm1d (bn_hidden)      [256, 1024]               [256, 1024]               2,048                     True\n",
       "│    │    └─BatchNorm1d (bn_input)       [256, 1024]               [256, 1024]               2,048                     True\n",
       "│    │    └─BatchNorm1d (bn_c)           [256, 256]                [256, 256]                512                       True\n",
       "├─Dropout (dropout3)                     [256, 256]                [256, 256]                --                        --\n",
       "├─BNLSTM (bnlstm4)                       [256, 256]                [256, 256]                512                       True\n",
       "│    └─BNLSTMCell (bnlstmcell)           --                        [256, 256]                525,312                   True\n",
       "│    │    └─BatchNorm1d (bn_hidden)      [256, 1024]               [256, 1024]               2,048                     True\n",
       "│    │    └─BatchNorm1d (bn_input)       [256, 1024]               [256, 1024]               2,048                     True\n",
       "│    │    └─BatchNorm1d (bn_c)           [256, 256]                [256, 256]                512                       True\n",
       "├─Dropout (dropout4)                     [256, 256]                [256, 256]                --                        --\n",
       "├─BNLSTM (bnlstm5)                       [256, 256]                [256, 256]                512                       True\n",
       "│    └─BNLSTMCell (bnlstmcell)           --                        [256, 256]                525,312                   True\n",
       "│    │    └─BatchNorm1d (bn_hidden)      [256, 1024]               [256, 1024]               2,048                     True\n",
       "│    │    └─BatchNorm1d (bn_input)       [256, 1024]               [256, 1024]               2,048                     True\n",
       "│    │    └─BatchNorm1d (bn_c)           [256, 256]                [256, 256]                512                       True\n",
       "├─Dropout (dropout5)                     [256, 256]                [256, 256]                --                        --\n",
       "├─Linear (linear)                        [256, 256]                [256, 1]                  257                       True\n",
       "============================================================================================================================================\n",
       "Total params: 2,402,561\n",
       "Trainable params: 2,402,561\n",
       "Non-trainable params: 0\n",
       "Total mult-adds (M): 5.96\n",
       "============================================================================================================================================\n",
       "Input size (MB): 0.01\n",
       "Forward/backward pass size (MB): 23.60\n",
       "Params size (MB): 0.09\n",
       "Estimated Total Size (MB): 23.70\n",
       "============================================================================================================================================"
      ]
     },
     "execution_count": 18,
     "metadata": {},
     "output_type": "execute_result"
    }
   ],
   "source": [
    "from torchinfo import summary\n",
    "\n",
    "summary(model, \n",
    "        input_size=(256, 12),\n",
    "        col_names = ['input_size', 'output_size', 'num_params', 'trainable'],\n",
    "        row_settings = [\"var_names\"])"
   ]
  },
  {
   "cell_type": "code",
   "execution_count": 19,
   "metadata": {},
   "outputs": [
    {
     "name": "stdout",
     "output_type": "stream",
     "text": [
      "[INFO] An instane of SummaryWriter is created, saving to: ..\\log\\2025-03-17\\development\\bnlstmfive32_256_512_0.0025\n"
     ]
    }
   ],
   "source": [
    "writer = engine.create_writer(experiment_name=\"development\",\n",
    "                              model_name=model_name)"
   ]
  },
  {
   "cell_type": "code",
   "execution_count": null,
   "metadata": {},
   "outputs": [
    {
     "name": "stderr",
     "output_type": "stream",
     "text": [
      "  2%|▏         | 1/50 [01:42<1:23:37, 102.39s/it]"
     ]
    },
    {
     "name": "stdout",
     "output_type": "stream",
     "text": [
      "Epoch: 1 | Train loss: 5.2216 | Train evaluation score: 2.2851\n"
     ]
    },
    {
     "name": "stderr",
     "output_type": "stream",
     "text": [
      "  4%|▍         | 2/50 [03:29<1:24:00, 105.02s/it]"
     ]
    },
    {
     "name": "stdout",
     "output_type": "stream",
     "text": [
      "Epoch: 2 | Train loss: 2.1783 | Train evaluation score: 1.4759\n"
     ]
    },
    {
     "name": "stderr",
     "output_type": "stream",
     "text": [
      "  6%|▌         | 3/50 [05:23<1:25:25, 109.06s/it]"
     ]
    },
    {
     "name": "stdout",
     "output_type": "stream",
     "text": [
      "Epoch: 3 | Train loss: 0.9110 | Train evaluation score: 0.9545\n"
     ]
    },
    {
     "name": "stderr",
     "output_type": "stream",
     "text": [
      "  8%|▊         | 4/50 [07:37<1:31:23, 119.21s/it]"
     ]
    },
    {
     "name": "stdout",
     "output_type": "stream",
     "text": [
      "Epoch: 4 | Train loss: 0.5371 | Train evaluation score: 0.7329\n"
     ]
    },
    {
     "name": "stderr",
     "output_type": "stream",
     "text": [
      " 10%|█         | 5/50 [09:59<1:35:27, 127.27s/it]"
     ]
    },
    {
     "name": "stdout",
     "output_type": "stream",
     "text": [
      "Epoch: 5 | Train loss: 0.3802 | Train evaluation score: 0.6166\n"
     ]
    },
    {
     "name": "stderr",
     "output_type": "stream",
     "text": [
      " 12%|█▏        | 6/50 [12:32<1:39:40, 135.91s/it]"
     ]
    },
    {
     "name": "stdout",
     "output_type": "stream",
     "text": [
      "Epoch: 6 | Train loss: 0.3014 | Train evaluation score: 0.5490\n"
     ]
    },
    {
     "name": "stderr",
     "output_type": "stream",
     "text": [
      " 14%|█▍        | 7/50 [15:02<1:40:52, 140.77s/it]"
     ]
    },
    {
     "name": "stdout",
     "output_type": "stream",
     "text": [
      "Epoch: 7 | Train loss: 0.2414 | Train evaluation score: 0.4914\n"
     ]
    },
    {
     "name": "stderr",
     "output_type": "stream",
     "text": [
      " 16%|█▌        | 8/50 [17:32<1:40:33, 143.64s/it]"
     ]
    },
    {
     "name": "stdout",
     "output_type": "stream",
     "text": [
      "Epoch: 8 | Train loss: 0.1997 | Train evaluation score: 0.4469\n"
     ]
    },
    {
     "name": "stderr",
     "output_type": "stream",
     "text": [
      " 18%|█▊        | 9/50 [19:20<1:30:27, 132.38s/it]"
     ]
    },
    {
     "name": "stdout",
     "output_type": "stream",
     "text": [
      "Epoch: 9 | Train loss: 0.1719 | Train evaluation score: 0.4146\n"
     ]
    },
    {
     "name": "stderr",
     "output_type": "stream",
     "text": [
      " 20%|██        | 10/50 [21:10<1:23:46, 125.66s/it]"
     ]
    },
    {
     "name": "stdout",
     "output_type": "stream",
     "text": [
      "Epoch: 10 | Train loss: 0.1525 | Train evaluation score: 0.3905\n"
     ]
    },
    {
     "name": "stderr",
     "output_type": "stream",
     "text": [
      " 22%|██▏       | 11/50 [23:18<1:22:04, 126.27s/it]"
     ]
    },
    {
     "name": "stdout",
     "output_type": "stream",
     "text": [
      "Epoch: 11 | Train loss: 0.1415 | Train evaluation score: 0.3762\n"
     ]
    },
    {
     "name": "stderr",
     "output_type": "stream",
     "text": [
      " 24%|██▍       | 12/50 [25:44<1:23:43, 132.19s/it]"
     ]
    },
    {
     "name": "stdout",
     "output_type": "stream",
     "text": [
      "Epoch: 12 | Train loss: 0.1139 | Train evaluation score: 0.3375\n"
     ]
    }
   ],
   "source": [
    "# Training\n",
    "results = engine.train(model=model,\n",
    "                       train_dataloader=train_dataloader,\n",
    "                       loss_func=loss_func,\n",
    "                       epochs = 50,\n",
    "                       optimizer=optimizer,\n",
    "                       writer=writer,\n",
    "                       device=device)"
   ]
  },
  {
   "cell_type": "code",
   "execution_count": null,
   "metadata": {},
   "outputs": [
    {
     "name": "stdout",
     "output_type": "stream",
     "text": [
      "[INFO] Model is saved successfully to ..\\model\\bnlstmfive32_256_256_0005\n"
     ]
    },
    {
     "data": {
      "text/plain": [
       "'..\\\\model\\\\bnlstmfive32_256_256_0005'"
      ]
     },
     "execution_count": 21,
     "metadata": {},
     "output_type": "execute_result"
    }
   ],
   "source": [
    "engine.save_model(model=model,\n",
    "                  model_name=model_name,\n",
    "                  save_folder=os.path.join(\"..\", \"model\"))"
   ]
  },
  {
   "cell_type": "code",
   "execution_count": null,
   "metadata": {},
   "outputs": [],
   "source": [
    "import pandas as pd\n",
    "tosave = pd.DataFrame(results).T\n",
    "tosave.columns = ['Loss', 'Eval_score']\n",
    "tosave.to_csv(os.path.join(\"..\", \"log_df\", model_name + \".csv\"))"
   ]
  }
 ],
 "metadata": {
  "kernelspec": {
   "display_name": ".venv",
   "language": "python",
   "name": "python3"
  },
  "language_info": {
   "codemirror_mode": {
    "name": "ipython",
    "version": 3
   },
   "file_extension": ".py",
   "mimetype": "text/x-python",
   "name": "python",
   "nbconvert_exporter": "python",
   "pygments_lexer": "ipython3",
   "version": "3.10.6"
  }
 },
 "nbformat": 4,
 "nbformat_minor": 2
}
