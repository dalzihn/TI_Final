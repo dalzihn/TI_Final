{
 "cells": [
  {
   "cell_type": "code",
   "execution_count": 1,
   "metadata": {},
   "outputs": [],
   "source": [
    "import torch\n",
    "import pandas as pd\n",
    "import matplotlib.pyplot as plt\n",
    "import os\n",
    "from torch.utils.data import Dataset\n",
    "from torch.utils.data import DataLoader"
   ]
  },
  {
   "cell_type": "markdown",
   "metadata": {},
   "source": [
    "# Custom Datasets"
   ]
  },
  {
   "cell_type": "markdown",
   "metadata": {},
   "source": [
    "Create custom dataset"
   ]
  },
  {
   "cell_type": "code",
   "execution_count": 58,
   "metadata": {},
   "outputs": [
    {
     "name": "stdout",
     "output_type": "stream",
     "text": [
      "Overwriting ./data_setup.py\n"
     ]
    }
   ],
   "source": [
    "%%writefile ./data_setup.py\n",
    "import pandas as pd \n",
    "import torch\n",
    "import os \n",
    "from torch.utils.data import Dataset\n",
    "from torch.utils.data import DataLoader\n",
    "\n",
    "class SMP_Dataset(Dataset):\n",
    "    \"\"\"A class inherited from torch.utils.data.Dataset for loading CSV file for Stock Market Prediction\"\"\"\n",
    "    def __init__(self, path: os.path, target_col: str):\n",
    "        self.data = pd.read_csv(path)\n",
    "        self.target_col = target_col\n",
    "\n",
    "    def __len__(self):\n",
    "        return len(self.data)\n",
    "\n",
    "    def __getitem__(self, index):\n",
    "        features = self.data.drop(self.target_col, axis = 1).select_dtypes('number')\n",
    "        target = self.data[self.target_col]\n",
    "        return torch.tensor(features.iloc[index,:].values), torch.tensor(target[index])\n",
    "    \n",
    "def create_dataloaders(\n",
    "        train_path: os.path,\n",
    "        test_path: os.path,\n",
    "        target_col: str,\n",
    "        batch_size: int\n",
    ") -> tuple[torch.utils.data.DataLoader, torch.utils.data.DataLoader]:\n",
    "    \"\"\"Creates training and testing DataLoaders\n",
    "\n",
    "    Takes two paths which are training path and testing path respectively, first turns them into Pytorch Dataset\n",
    "    and then into Pytorch DatasetLoaders\n",
    "\n",
    "    Args:\n",
    "        train_path: path that links to train file \n",
    "        test_path: path that links to test file\n",
    "        target_col: the target column\n",
    "        batch_size: number of samples in a batch\n",
    "    \n",
    "    Returns:\n",
    "    A tuple (train_dataloaders, test_dataloaders).\"\"\"\n",
    "\n",
    "    #Initialise data\n",
    "    train_data = SMP_Dataset(train_path, target_col)\n",
    "    test_data = SMP_Dataset(test_path, target_col)\n",
    "\n",
    "    #Create training and testing DataLoaders\n",
    "    train_dataloaders = DataLoader(\n",
    "        train_data, \n",
    "        batch_size=batch_size, \n",
    "        shuffle=True)\n",
    "    \n",
    "    test_dataloaders = DataLoader(\n",
    "        test_data,\n",
    "        batch_size=batch_size,\n",
    "        shuffle=True\n",
    "    )\n",
    "\n",
    "    return train_dataloaders, test_dataloaders\n",
    "\n",
    "\n",
    "    "
   ]
  },
  {
   "cell_type": "code",
   "execution_count": 49,
   "metadata": {},
   "outputs": [],
   "source": [
    "def create_dataloaders(\n",
    "        train_path: os.path,\n",
    "        test_path: os.path,\n",
    "        target_col: str,\n",
    "        batch_size: int\n",
    ") -> tuple[torch.utils.data.DataLoader, torch.utils.data.DataLoader]:\n",
    "    \"\"\"Creates training and testing DataLoaders\n",
    "\n",
    "    Takes two paths which are training path and testing path respectively, first turns them into Pytorch Dataset\n",
    "    and then into Pytorch DatasetLoaders\n",
    "\n",
    "    Args:\n",
    "        train_path: path that links to train file \n",
    "        test_path: path that links to test file\n",
    "        target_col: the target column\n",
    "        batch_size: number of samples in a batch\n",
    "    \n",
    "    Returns:\n",
    "    A tuple (train_dataloaders, test_dataloaders).\"\"\"\n",
    "\n",
    "    #Initialise data\n",
    "    train_data = SMP_Dataset(train_path, target_col)\n",
    "    test_data = SMP_Dataset(test_path, target_col)\n",
    "\n",
    "    #Create training and testing DataLoaders\n",
    "    train_dataloaders = DataLoader(\n",
    "        train_data, \n",
    "        batch_size=batch_size, \n",
    "        shuffle=True)\n",
    "    \n",
    "    test_dataloaders = DataLoader(\n",
    "        test_data,\n",
    "        batch_size=batch_size,\n",
    "        shuffle=True\n",
    "    )\n",
    "\n",
    "    return train_dataloaders, test_dataloaders\n",
    "\n"
   ]
  }
 ],
 "metadata": {
  "kernelspec": {
   "display_name": ".venv",
   "language": "python",
   "name": "python3"
  },
  "language_info": {
   "codemirror_mode": {
    "name": "ipython",
    "version": 3
   },
   "file_extension": ".py",
   "mimetype": "text/x-python",
   "name": "python",
   "nbconvert_exporter": "python",
   "pygments_lexer": "ipython3",
   "version": "3.12.0"
  }
 },
 "nbformat": 4,
 "nbformat_minor": 2
}
